{
 "cells": [
  {
   "cell_type": "code",
   "execution_count": 171,
   "metadata": {},
   "outputs": [],
   "source": [
    "import pandas as pd\n",
    "import numpy as np"
   ]
  },
  {
   "cell_type": "code",
   "execution_count": 172,
   "metadata": {},
   "outputs": [
    {
     "name": "stdout",
     "output_type": "stream",
     "text": [
      "CSV dataset is :\n",
      "  weather airtemp humidity    wind water forecast enjoysport\n",
      "0   sunny    warm   normal  strong  warm     same        yes\n",
      "1   sunny    warm     high  strong  warm     same        yes\n",
      "2   rainy    cold     high  strong  warm   change         no\n",
      "3   sunny    warm     high  strong  cool   change        yes\n"
     ]
    }
   ],
   "source": [
    "data = pd.read_csv(\"data.csv\")\n",
    "print(\"CSV dataset is :\")\n",
    "print(data)"
   ]
  },
  {
   "cell_type": "code",
   "execution_count": 173,
   "metadata": {},
   "outputs": [
    {
     "name": "stdout",
     "output_type": "stream",
     "text": [
      "Attributes list : \n",
      "[['sunny' 'warm' 'normal' 'strong' 'warm' 'same']\n",
      " ['sunny' 'warm' 'high' 'strong' 'warm' 'same']\n",
      " ['rainy' 'cold' 'high' 'strong' 'warm' 'change']\n",
      " ['sunny' 'warm' 'high' 'strong' 'cool' 'change']]\n"
     ]
    }
   ],
   "source": [
    "\n",
    "d = np.array(data)[:,:-1]\n",
    "print(\"Attributes list : \")\n",
    "print(d)"
   ]
  },
  {
   "cell_type": "code",
   "execution_count": 174,
   "metadata": {},
   "outputs": [
    {
     "name": "stdout",
     "output_type": "stream",
     "text": [
      "['yes' 'yes' 'no' 'yes']\n"
     ]
    }
   ],
   "source": [
    "t = np.array(data)[:,-1]\n",
    "print(t)"
   ]
  },
  {
   "cell_type": "code",
   "execution_count": 175,
   "metadata": {},
   "outputs": [
    {
     "name": "stdout",
     "output_type": "stream",
     "text": [
      "['0', '0', '0', '0', '0', '0']\n"
     ]
    }
   ],
   "source": [
    "S = ['0']*len(d[0])\n",
    "print(S)"
   ]
  },
  {
   "cell_type": "code",
   "execution_count": 176,
   "metadata": {},
   "outputs": [
    {
     "name": "stdout",
     "output_type": "stream",
     "text": [
      "[['?', '?', '?', '?', '?', '?'], ['?', '?', '?', '?', '?', '?'], ['?', '?', '?', '?', '?', '?'], ['?', '?', '?', '?', '?', '?'], ['?', '?', '?', '?', '?', '?'], ['?', '?', '?', '?', '?', '?']]\n"
     ]
    }
   ],
   "source": [
    "x = ['?']*len(d[0])\n",
    "G = [x]*len(d[0])\n",
    "print(G)"
   ]
  },
  {
   "cell_type": "code",
   "execution_count": 177,
   "metadata": {},
   "outputs": [
    {
     "name": "stdout",
     "output_type": "stream",
     "text": [
      "_-_-_-_-_-_-_ ITERATION _-_-_-_-_-_-_ 1 :\n",
      "\n",
      "Instance 1 :\n",
      " ['sunny' 'warm' 'normal' 'strong' 'warm' 'same']\n",
      "Specific hypothesis boundary after iteraion  1  : \n",
      " ['sunny', 'warm', 'normal', 'strong', 'warm', 'same']\n",
      "General hypothesis boundary after iteraion  1  :\n",
      " [['?', '?', '?', '?', '?', '?'], ['?', '?', '?', '?', '?', '?'], ['?', '?', '?', '?', '?', '?'], ['?', '?', '?', '?', '?', '?'], ['?', '?', '?', '?', '?', '?'], ['?', '?', '?', '?', '?', '?']] \n",
      "\n",
      "\n",
      "\n",
      "_-_-_-_-_-_-_ ITERATION _-_-_-_-_-_-_ 2 :\n",
      "\n",
      "Instance 2 :\n",
      " ['sunny' 'warm' 'high' 'strong' 'warm' 'same']\n",
      "Specific hypothesis boundary after iteraion  2  : \n",
      " ['sunny', 'warm', '?', 'strong', 'warm', 'same']\n",
      "General hypothesis boundary after iteraion  2  :\n",
      " [['?', '?', '?', '?', '?', '?'], ['?', '?', '?', '?', '?', '?'], ['?', '?', '?', '?', '?', '?'], ['?', '?', '?', '?', '?', '?'], ['?', '?', '?', '?', '?', '?'], ['?', '?', '?', '?', '?', '?']] \n",
      "\n",
      "\n",
      "\n",
      "_-_-_-_-_-_-_ ITERATION _-_-_-_-_-_-_ 3 :\n",
      "\n",
      "Instance 3 :\n",
      " ['rainy' 'cold' 'high' 'strong' 'warm' 'change']\n",
      "Specific hypothesis boundary after iteraion  3  : \n",
      " ['sunny', 'warm', '?', 'strong', 'warm', 'same']\n",
      "General hypothesis boundary after iteraion  3  :\n",
      " [['sunny', '?', '?', '?', '?', '?'], ['?', 'warm', '?', '?', '?', '?'], ['?', '?', '?', '?', '?', '?'], ['?', '?', '?', '?', '?', '?'], ['?', '?', '?', '?', '?', '?'], ['?', '?', '?', '?', '?', 'same']] \n",
      "\n",
      "\n",
      "\n",
      "_-_-_-_-_-_-_ ITERATION _-_-_-_-_-_-_ 4 :\n",
      "\n",
      "Instance 4 :\n",
      " ['sunny' 'warm' 'high' 'strong' 'cool' 'change']\n",
      "Specific hypothesis boundary after iteraion  4  : \n",
      " ['sunny', 'warm', '?', 'strong', '?', '?']\n",
      "General hypothesis boundary after iteraion  4  :\n",
      " [['sunny', '?', '?', '?', '?', '?'], ['?', 'warm', '?', '?', '?', '?'], ['?', '?', '?', '?', '?', '?'], ['?', '?', '?', '?', '?', '?'], ['?', '?', '?', '?', '?', '?'], ['?', '?', '?', '?', '?', '?']] \n",
      "\n",
      "\n",
      "\n",
      "********************************************************************************\n",
      "Specific hypothesis boundary after algo :\n",
      " ['sunny', 'warm', '?', 'strong', '?', '?']\n",
      "General hypothesis boundary after algo :\n",
      "[['sunny', '?', '?', '?', '?', '?'], ['?', 'warm', '?', '?', '?', '?']]\n"
     ]
    }
   ],
   "source": [
    "\n",
    "for i in range(0,len(t)):\n",
    "    if(t[i]=='yes'):\n",
    "        for j in range(0,len(d[0])):\n",
    "            if(S[j]=='0' or S[j]==d[i][j]):\n",
    "                S[j]=d[i][j]\n",
    "            else:\n",
    "                S[j]='?'\n",
    "            if(G[j][j] != '?' and G[j][j] != S[j]):\n",
    "                G[j][j]='?'\n",
    "                \n",
    "    else:\n",
    "        for j in range(0,len(G)):\n",
    "            if(S[j]==d[i][j] or S[j]=='?'):\n",
    "                G[j][j]=G[j][j]\n",
    "                #Do nothing\n",
    "            else:\n",
    "                #G[j][j]=S[j]\n",
    "                temp=['?']*len(G)\n",
    "                temp[j]=S[j]\n",
    "                G[j]=temp\n",
    "    print(\"_-_-_-_-_-_-_ ITERATION _-_-_-_-_-_-_\",i+1,\":\\n\")\n",
    "    print(\"Instance\",i+1,\":\\n\",d[i])\n",
    "    print(\"Specific hypothesis boundary after iteraion \",i+1,\" : \\n\",S)\n",
    "    print(\"General hypothesis boundary after iteraion \",i+1,\" :\\n\",G,\"\\n\\n\\n\")\n",
    "                   \n",
    "print(\"********************************************************************************\")                  \n",
    "print(\"Specific hypothesis boundary after algo :\\n\",S)\n",
    "\n",
    "print(\"General hypothesis boundary after algo :\")\n",
    "final_G = []\n",
    "for i in G:\n",
    "    p=0\n",
    "    for j in i:\n",
    "        if(j != '?'):\n",
    "            p=1\n",
    "    if(p==1 and i not in final_G):\n",
    "        final_G.append(i)\n",
    "print(final_G)"
   ]
  },
  {
   "cell_type": "code",
   "execution_count": null,
   "metadata": {},
   "outputs": [],
   "source": []
  }
 ],
 "metadata": {
  "kernelspec": {
   "display_name": "Python 3",
   "language": "python",
   "name": "python3"
  },
  "language_info": {
   "codemirror_mode": {
    "name": "ipython",
    "version": 3
   },
   "file_extension": ".py",
   "mimetype": "text/x-python",
   "name": "python",
   "nbconvert_exporter": "python",
   "pygments_lexer": "ipython3",
   "version": "3.7.6"
  }
 },
 "nbformat": 4,
 "nbformat_minor": 4
}
