{
 "cells": [
  {
   "cell_type": "code",
   "execution_count": 93,
   "metadata": {},
   "outputs": [],
   "source": [
    "import pandas as pd\n",
    "import numpy as np"
   ]
  },
  {
   "cell_type": "code",
   "execution_count": 94,
   "metadata": {},
   "outputs": [
    {
     "name": "stdout",
     "output_type": "stream",
     "text": [
      "CSV dataset is :\n",
      "  weather airtemp humidity    wind water forecast enjoysport\n",
      "0   sunny    warm   normal  strong  warm     same        yes\n",
      "1   sunny    warm     high  strong  warm     same        yes\n",
      "2   rainy    cold     high  strong  warm   change         no\n",
      "3   sunny    warm     high  strong  cool   change        yes\n"
     ]
    }
   ],
   "source": [
    "data = pd.read_csv(\"data.csv\")\n",
    "print(\"CSV dataset is :\")\n",
    "print(data)"
   ]
  },
  {
   "cell_type": "code",
   "execution_count": 95,
   "metadata": {},
   "outputs": [
    {
     "name": "stdout",
     "output_type": "stream",
     "text": [
      "Attributes list : \n",
      "[['sunny' 'warm' 'normal' 'strong' 'warm' 'same']\n",
      " ['sunny' 'warm' 'high' 'strong' 'warm' 'same']\n",
      " ['rainy' 'cold' 'high' 'strong' 'warm' 'change']\n",
      " ['sunny' 'warm' 'high' 'strong' 'cool' 'change']]\n"
     ]
    }
   ],
   "source": [
    "\n",
    "d = np.array(data)[:,:-1]\n",
    "print(\"Attributes list : \")\n",
    "print(d)"
   ]
  },
  {
   "cell_type": "code",
   "execution_count": 96,
   "metadata": {},
   "outputs": [
    {
     "name": "stdout",
     "output_type": "stream",
     "text": [
      "['yes' 'yes' 'no' 'yes']\n"
     ]
    }
   ],
   "source": [
    "t = np.array(data)[:,-1]\n",
    "print(t)"
   ]
  },
  {
   "cell_type": "code",
   "execution_count": 97,
   "metadata": {},
   "outputs": [
    {
     "name": "stdout",
     "output_type": "stream",
     "text": [
      "['0', '0', '0', '0', '0', '0']\n"
     ]
    }
   ],
   "source": [
    "S = ['0']*len(d[0])\n",
    "print(S)"
   ]
  },
  {
   "cell_type": "code",
   "execution_count": 98,
   "metadata": {},
   "outputs": [
    {
     "name": "stdout",
     "output_type": "stream",
     "text": [
      "[['?', '?', '?', '?', '?', '?'], ['?', '?', '?', '?', '?', '?'], ['?', '?', '?', '?', '?', '?'], ['?', '?', '?', '?', '?', '?'], ['?', '?', '?', '?', '?', '?'], ['?', '?', '?', '?', '?', '?']]\n"
     ]
    }
   ],
   "source": [
    "x = ['?']*len(d[0])\n",
    "G = [x]*len(d[0])\n",
    "print(G)"
   ]
  },
  {
   "cell_type": "code",
   "execution_count": 99,
   "metadata": {},
   "outputs": [
    {
     "name": "stdout",
     "output_type": "stream",
     "text": [
      "_____________ITERATION_____________ 1 :\n",
      "\n",
      "Instance 1 :\n",
      " ['sunny' 'warm' 'normal' 'strong' 'warm' 'same']\n",
      "Specific hypothesis boundary after iteraion  1  : \n",
      " ['sunny', 'warm', 'normal', 'strong', 'warm', 'same']\n",
      "General hypothesis boundary after iteraion  1  :\n",
      " [['?', '?', '?', '?', '?', '?'], ['?', '?', '?', '?', '?', '?'], ['?', '?', '?', '?', '?', '?'], ['?', '?', '?', '?', '?', '?'], ['?', '?', '?', '?', '?', '?'], ['?', '?', '?', '?', '?', '?']] \n",
      "\n",
      "\n",
      "\n",
      "_____________ITERATION_____________ 2 :\n",
      "\n",
      "Instance 2 :\n",
      " ['sunny' 'warm' 'high' 'strong' 'warm' 'same']\n",
      "Specific hypothesis boundary after iteraion  2  : \n",
      " ['sunny', 'warm', '?', 'strong', 'warm', 'same']\n",
      "General hypothesis boundary after iteraion  2  :\n",
      " [['?', '?', '?', '?', '?', '?'], ['?', '?', '?', '?', '?', '?'], ['?', '?', '?', '?', '?', '?'], ['?', '?', '?', '?', '?', '?'], ['?', '?', '?', '?', '?', '?'], ['?', '?', '?', '?', '?', '?']] \n",
      "\n",
      "\n",
      "\n",
      "_____________ITERATION_____________ 3 :\n",
      "\n",
      "Instance 3 :\n",
      " ['rainy' 'cold' 'high' 'strong' 'warm' 'change']\n",
      "Specific hypothesis boundary after iteraion  3  : \n",
      " ['sunny', 'warm', '?', 'strong', 'warm', 'same']\n",
      "General hypothesis boundary after iteraion  3  :\n",
      " [['sunny', 'warm', '?', '?', '?', 'same'], ['sunny', 'warm', '?', '?', '?', 'same'], ['sunny', 'warm', '?', '?', '?', 'same'], ['sunny', 'warm', '?', '?', '?', 'same'], ['sunny', 'warm', '?', '?', '?', 'same'], ['sunny', 'warm', '?', '?', '?', 'same']] \n",
      "\n",
      "\n",
      "\n",
      "_____________ITERATION_____________ 4 :\n",
      "\n",
      "Instance 4 :\n",
      " ['sunny' 'warm' 'high' 'strong' 'cool' 'change']\n",
      "Specific hypothesis boundary after iteraion  4  : \n",
      " ['sunny', 'warm', '?', 'strong', '?', '?']\n",
      "General hypothesis boundary after iteraion  4  :\n",
      " [['sunny', 'warm', '?', '?', '?', '?'], ['sunny', 'warm', '?', '?', '?', '?'], ['sunny', 'warm', '?', '?', '?', '?'], ['sunny', 'warm', '?', '?', '?', '?'], ['sunny', 'warm', '?', '?', '?', '?'], ['sunny', 'warm', '?', '?', '?', '?']] \n",
      "\n",
      "\n",
      "\n"
     ]
    }
   ],
   "source": [
    "\n",
    "for i in range(0,len(t)):\n",
    "    if(t[i]=='yes'):\n",
    "        for j in range(0,len(d[0])):\n",
    "            if(S[j]=='0' or S[j]==d[i][j]):\n",
    "                S[j]=d[i][j]\n",
    "            else:\n",
    "                S[j]='?'\n",
    "            if(G[j][j] != '?' and G[j][j] != S[j]):\n",
    "                G[j][j]='?'\n",
    "                \n",
    "    else:\n",
    "        for j in range(0,len(G)):\n",
    "            if(S[j]==d[i][j] or S[j]=='?'):\n",
    "                S[j]=S[j]\n",
    "                #Do nothing\n",
    "            else:\n",
    "                G[j][j]=S[j]\n",
    "    print(\"_____________ITERATION_____________\",i+1,\":\\n\")\n",
    "    print(\"Instance\",i+1,\":\\n\",d[i])\n",
    "    print(\"Specific hypothesis boundary after iteraion \",i+1,\" : \\n\",S)\n",
    "    print(\"General hypothesis boundary after iteraion \",i+1,\" :\\n\",G,\"\\n\\n\\n\")\n",
    "                    \n",
    "                  \n",
    "#print(\"Specific hypothesis boundary after algo :\\n\",S)\n",
    "#print(\"General hypothesis boundary after algo :\\n\",G)"
   ]
  },
  {
   "cell_type": "code",
   "execution_count": null,
   "metadata": {},
   "outputs": [],
   "source": []
  }
 ],
 "metadata": {
  "kernelspec": {
   "display_name": "Python 3",
   "language": "python",
   "name": "python3"
  },
  "language_info": {
   "codemirror_mode": {
    "name": "ipython",
    "version": 3
   },
   "file_extension": ".py",
   "mimetype": "text/x-python",
   "name": "python",
   "nbconvert_exporter": "python",
   "pygments_lexer": "ipython3",
   "version": "3.7.6"
  }
 },
 "nbformat": 4,
 "nbformat_minor": 4
}
