{
 "cells": [
  {
   "cell_type": "code",
   "execution_count": 12,
   "metadata": {},
   "outputs": [],
   "source": [
    "import pandas as pd\n",
    "import numpy as np"
   ]
  },
  {
   "cell_type": "code",
   "execution_count": 13,
   "metadata": {},
   "outputs": [
    {
     "name": "stdout",
     "output_type": "stream",
     "text": [
      "CSV dataset is :\n",
      "     sky airtemp humidity    wind water forcast enjoysport\n",
      "0  sunny    warm   normal  strong  warm    same        yes\n",
      "1  sunny    warm     high  strong  warm    same        yes\n",
      "2  rainy    cold     high  strong  warm  change         no\n",
      "3  sunny    warm     high  strong  cool  change        yes\n"
     ]
    }
   ],
   "source": [
    "data = pd.read_csv(\"dataset.csv\")\n",
    "print(\"CSV dataset is :\")\n",
    "print(data)"
   ]
  },
  {
   "cell_type": "code",
   "execution_count": 14,
   "metadata": {},
   "outputs": [
    {
     "name": "stdout",
     "output_type": "stream",
     "text": [
      "Attributes list : \n",
      "[['sunny' 'warm' 'normal' 'strong' 'warm' 'same']\n",
      " ['sunny' 'warm' 'high' 'strong' 'warm' 'same']\n",
      " ['rainy' 'cold' 'high' 'strong' 'warm' 'change']\n",
      " ['sunny' 'warm' 'high' 'strong' 'cool' 'change']]\n"
     ]
    }
   ],
   "source": [
    "d = np.array(data)[:,:-1]\n",
    "print(\"Attributes list : \")\n",
    "print(d)"
   ]
  },
  {
   "cell_type": "code",
   "execution_count": 15,
   "metadata": {},
   "outputs": [
    {
     "name": "stdout",
     "output_type": "stream",
     "text": [
      "['yes' 'yes' 'no' 'yes']\n"
     ]
    }
   ],
   "source": [
    "t = np.array(data)[:,-1]\n",
    "print(t)"
   ]
  },
  {
   "cell_type": "code",
   "execution_count": 16,
   "metadata": {},
   "outputs": [],
   "source": [
    "def negate(x):\n",
    "    if x=='sunny': return 'rainy'\n",
    "    elif x=='rainy': return 'sunny'\n",
    "    elif x=='warm': return 'cold'\n",
    "    elif x=='cold': return 'warm'\n",
    "    elif x=='normal': return 'high'\n",
    "    elif x=='strong': return 'weak'\n",
    "    elif x=='weak': return 'strong'\n",
    "    elif x=='same': return 'change'\n",
    "    elif x=='change': return 'same'"
   ]
  },
  {
   "cell_type": "code",
   "execution_count": 17,
   "metadata": {},
   "outputs": [
    {
     "name": "stdout",
     "output_type": "stream",
     "text": [
      "['0', '0', '0', '0', '0', '0']\n"
     ]
    }
   ],
   "source": [
    "S = ['0']*len(d[0])\n",
    "print(S)"
   ]
  },
  {
   "cell_type": "code",
   "execution_count": 29,
   "metadata": {},
   "outputs": [
    {
     "name": "stdout",
     "output_type": "stream",
     "text": [
      "[['?', '?', '?', '?', '?', '?'], ['?', '?', '?', '?', '?', '?'], ['?', '?', '?', '?', '?', '?'], ['?', '?', '?', '?', '?', '?'], ['?', '?', '?', '?', '?', '?'], ['?', '?', '?', '?', '?', '?']]\n"
     ]
    }
   ],
   "source": [
    "x = ['?']*len(d[0])\n",
    "G = [x]*len(d[0])\n",
    "print(G)"
   ]
  },
  {
   "cell_type": "code",
   "execution_count": 30,
   "metadata": {},
   "outputs": [
    {
     "name": "stdout",
     "output_type": "stream",
     "text": [
      "rainy\n",
      "cold\n",
      "Specific hypothesis boundary after algo :\n",
      " ['sunny', 'warm', '?', 'strong', '?', '?']\n",
      "General hypothesis boundary after algo :\n",
      " [['sunny', 'warm', '?', '?', '?', '?'], ['sunny', 'warm', '?', '?', '?', '?'], ['sunny', 'warm', '?', '?', '?', '?'], ['sunny', 'warm', '?', '?', '?', '?'], ['sunny', 'warm', '?', '?', '?', '?'], ['sunny', 'warm', '?', '?', '?', '?']]\n"
     ]
    }
   ],
   "source": [
    "for i in range(0,len(t)):\n",
    "    if(t[i]=='yes'):\n",
    "        for j in range(0,len(d[0])):\n",
    "            if(S[j]=='0' or S[j]==d[i][j]):\n",
    "                S[j]=d[i][j]\n",
    "            else:\n",
    "                S[j]='?'\n",
    "    else:\n",
    "        for j in range(0,len(G)):\n",
    "            if(S[j]==d[i][j] or S[j]=='?'):\n",
    "                S[j]=S[j]\n",
    "                #Do nothing\n",
    "            else:\n",
    "                    print(d[i][j])\n",
    "                    G[j][j]=S[j]\n",
    "                  \n",
    "print(\"Specific hypothesis boundary after algo :\\n\",S)\n",
    "print(\"General hypothesis boundary after algo :\\n\",G)"
   ]
  },
  {
   "cell_type": "code",
   "execution_count": null,
   "metadata": {},
   "outputs": [],
   "source": []
  }
 ],
 "metadata": {
  "kernelspec": {
   "display_name": "Python 3",
   "language": "python",
   "name": "python3"
  },
  "language_info": {
   "codemirror_mode": {
    "name": "ipython",
    "version": 3
   },
   "file_extension": ".py",
   "mimetype": "text/x-python",
   "name": "python",
   "nbconvert_exporter": "python",
   "pygments_lexer": "ipython3",
   "version": "3.7.0"
  }
 },
 "nbformat": 4,
 "nbformat_minor": 2
}
